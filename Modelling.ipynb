{
 "cells": [
  {
   "cell_type": "markdown",
   "metadata": {
    "id": "KijC1jygIPlD"
   },
   "source": [
    "### Loading Data"
   ]
  },
  {
   "cell_type": "code",
   "execution_count": null,
   "metadata": {
    "colab": {
     "base_uri": "https://localhost:8080/"
    },
    "id": "bZbz7iZFHN6Y",
    "outputId": "23023636-b7e9-48d1-c05e-3d8d437d04f3"
   },
   "outputs": [
    {
     "name": "stdout",
     "output_type": "stream",
     "text": [
      "Mounted at /content/drive\n"
     ]
    }
   ],
   "source": [
    "from google.colab import drive\n",
    "drive.mount('/content/drive', force_remount=True)"
   ]
  },
  {
   "cell_type": "code",
   "execution_count": null,
   "metadata": {
    "colab": {
     "base_uri": "https://localhost:8080/"
    },
    "id": "3dWo9SHVHSQE",
    "outputId": "67630e95-43c1-4e5e-85c1-466be60192b9"
   },
   "outputs": [
    {
     "name": "stdout",
     "output_type": "stream",
     "text": [
      "/content/drive/MyDrive/Casestudy-1\n"
     ]
    }
   ],
   "source": [
    "%cd /content/drive/MyDrive/Casestudy-1"
   ]
  },
  {
   "cell_type": "code",
   "execution_count": null,
   "metadata": {
    "colab": {
     "base_uri": "https://localhost:8080/"
    },
    "id": "Sze8HSnlHVmI",
    "outputId": "8cca1660-5f2a-40c6-9e99-91ce941c6c41"
   },
   "outputs": [
    {
     "name": "stderr",
     "output_type": "stream",
     "text": [
      "/usr/local/lib/python3.6/dist-packages/sklearn/externals/six.py:31: FutureWarning: The module is deprecated in version 0.21 and will be removed in version 0.23 since we've dropped support for Python 2.7. Please rely on the official version of six (https://pypi.org/project/six/).\n",
      "  \"(https://pypi.org/project/six/).\", FutureWarning)\n"
     ]
    }
   ],
   "source": [
    "import pandas as pd\n",
    "import numpy as np\n",
    "import seaborn as sns\n",
    "import pickle\n",
    "from tqdm import tqdm\n",
    "from sklearn.model_selection import train_test_split\n",
    "from sklearn.model_selection import TimeSeriesSplit\n",
    "from sklearn.preprocessing import LabelEncoder\n",
    "from sklearn.linear_model import LogisticRegression\n",
    "from sklearn.naive_bayes import GaussianNB\n",
    "from sklearn.tree import DecisionTreeClassifier\n",
    "from sklearn.ensemble import RandomForestClassifier\n",
    "from xgboost import XGBClassifier\n",
    "from sklearn.ensemble import AdaBoostClassifier\n",
    "from sklearn.naive_bayes import MultinomialNB\n",
    "from sklearn.model_selection import GridSearchCV\n",
    "from mlxtend.classifier import StackingCVClassifier\n",
    "from sklearn.svm import SVC\n",
    "\n",
    "import warnings\n",
    "warnings.filterwarnings(\"ignore\")\n",
    "\n",
    "\n",
    "from sklearn.metrics import log_loss\n"
   ]
  },
  {
   "cell_type": "code",
   "execution_count": null,
   "metadata": {
    "id": "f9JEJJpaHdZK"
   },
   "outputs": [],
   "source": [
    "dfe=pickle.load(open('data_fe','rb'))"
   ]
  },
  {
   "cell_type": "markdown",
   "metadata": {
    "id": "XdDFVG51IpzQ"
   },
   "source": [
    "Data Splitting"
   ]
  },
  {
   "cell_type": "code",
   "execution_count": null,
   "metadata": {
    "id": "m7Xm8Ap-HmE8"
   },
   "outputs": [],
   "source": [
    "le= LabelEncoder()\n",
    "dfe['event']=le.fit_transform(dfe['event'])"
   ]
  },
  {
   "cell_type": "code",
   "execution_count": null,
   "metadata": {
    "id": "JnYCBpIJHoAF"
   },
   "outputs": [],
   "source": [
    "y=dfe['event']\n",
    "dfe.drop(['event'],axis=1,inplace= True)"
   ]
  },
  {
   "cell_type": "code",
   "execution_count": null,
   "metadata": {
    "id": "IfPV4AOoHsSq"
   },
   "outputs": [],
   "source": [
    "X_tr, X_cv, y_tr, y_cv = train_test_split(dfe, y, test_size=0.1, stratify=y,random_state=42)"
   ]
  },
  {
   "cell_type": "markdown",
   "metadata": {
    "id": "C1UiNQ2LIvw0"
   },
   "source": [
    "### Random Model"
   ]
  },
  {
   "cell_type": "code",
   "execution_count": null,
   "metadata": {
    "id": "FJ9szagKHukr"
   },
   "outputs": [],
   "source": [
    "#https://stackoverflow.com/questions/18659858/generating-a-list-of-random-numbers-summing-to-1#:~:text=The%20best%20way%20to%20do,are%20totally%20random%20this%20way.&text=Dividing%20each%20number%20by%20the,pair%20x%2Cy%20%3D%20random.\n",
    "def random(X,y):\n",
    "    yp=[]\n",
    "    for i in range(len(X)):\n",
    "        r=np.random.random(4)\n",
    "        r/=r.sum()\n",
    "        yp.append(r)\n",
    "    return (log_loss(y,yp))"
   ]
  },
  {
   "cell_type": "code",
   "execution_count": null,
   "metadata": {
    "colab": {
     "base_uri": "https://localhost:8080/"
    },
    "id": "lejDsJLzkkEm",
    "outputId": "abe63b95-29f7-4f04-8761-96f7a5cb42f6"
   },
   "outputs": [
    {
     "data": {
      "text/plain": [
       "1.646011053392743"
      ]
     },
     "execution_count": 13,
     "metadata": {
      "tags": []
     },
     "output_type": "execute_result"
    }
   ],
   "source": [
    "random(dfe,y)"
   ]
  },
  {
   "cell_type": "markdown",
   "metadata": {
    "id": "gYn5mcDrIy12"
   },
   "source": [
    "### Logistic Regression"
   ]
  },
  {
   "cell_type": "code",
   "execution_count": null,
   "metadata": {
    "id": "QBDeQcUSHvSO"
   },
   "outputs": [],
   "source": [
    "C=[.001,.01,.1]\n",
    "Penalty=['l1','l2']\n",
    "for i in tqdm(Penalty):\n",
    "    print(\"With Penalty:\",i)\n",
    "    for j in C:\n",
    "        clf = LogisticRegression(penalty=i,C=j,solver='liblinear')\n",
    "        clf.fit(X_tr,y_tr)\n",
    "        yp_tr= clf.predict_proba(X_tr)\n",
    "        yp_cv = clf.predict_proba(X_cv)\n",
    "        print(\"C:\",j)\n",
    "        print(\"Train logloss: \",log_loss(y_tr,yp_tr))\n",
    "        print(\"CV logloss: \",log_loss(y_cv,yp_cv))\n",
    "    print(\"________________________________________________________\")"
   ]
  },
  {
   "cell_type": "markdown",
   "metadata": {
    "id": "BoplBNvSlMe1"
   },
   "source": [
    "Best logloss is 0.89 using logistic Regression"
   ]
  },
  {
   "cell_type": "code",
   "execution_count": null,
   "metadata": {
    "colab": {
     "base_uri": "https://localhost:8080/"
    },
    "id": "IBU-7N61lQCE",
    "outputId": "263c31fc-954d-42e8-f0bc-01be9e85b846"
   },
   "outputs": [
    {
     "data": {
      "text/plain": [
       "LogisticRegression(C=0.1, class_weight=None, dual=False, fit_intercept=True,\n",
       "                   intercept_scaling=1, l1_ratio=None, max_iter=100,\n",
       "                   multi_class='auto', n_jobs=None, penalty='l1',\n",
       "                   random_state=None, solver='liblinear', tol=0.0001, verbose=0,\n",
       "                   warm_start=False)"
      ]
     },
     "execution_count": 10,
     "metadata": {
      "tags": []
     },
     "output_type": "execute_result"
    }
   ],
   "source": [
    "clf = LogisticRegression(penalty='l1',C=0.1,solver='liblinear')\n",
    "clf.fit(X_tr,y_tr)"
   ]
  },
  {
   "cell_type": "code",
   "execution_count": null,
   "metadata": {
    "id": "YnPKLCMkl3-g"
   },
   "outputs": [],
   "source": [
    "pickle.dump(clf,open('log_reg','wb'))"
   ]
  },
  {
   "cell_type": "markdown",
   "metadata": {
    "id": "Yg9s4PngI3vG"
   },
   "source": [
    "### Decision Tree"
   ]
  },
  {
   "cell_type": "code",
   "execution_count": null,
   "metadata": {
    "colab": {
     "base_uri": "https://localhost:8080/"
    },
    "id": "EHxieOoHH2Q6",
    "outputId": "85a25ebc-e94f-4de8-b4e5-fbd04a141092"
   },
   "outputs": [
    {
     "name": "stderr",
     "output_type": "stream",
     "text": [
      "\r",
      "  0%|          | 0/4 [00:00<?, ?it/s]"
     ]
    },
    {
     "name": "stdout",
     "output_type": "stream",
     "text": [
      "For max_depth of 5\n",
      "Train logloss:  0.6694439630795775\n"
     ]
    },
    {
     "name": "stderr",
     "output_type": "stream",
     "text": [
      "\r",
      " 25%|██▌       | 1/4 [02:04<06:13, 124.55s/it]"
     ]
    },
    {
     "name": "stdout",
     "output_type": "stream",
     "text": [
      "CV logloss:  0.6715730484825096\n",
      "____________________________________________\n",
      "For max_depth of 10\n",
      "Train logloss:  0.3620111945296545\n"
     ]
    },
    {
     "name": "stderr",
     "output_type": "stream",
     "text": [
      "\r",
      " 50%|█████     | 2/4 [05:55<05:12, 156.49s/it]"
     ]
    },
    {
     "name": "stdout",
     "output_type": "stream",
     "text": [
      "CV logloss:  0.36630413992267685\n",
      "____________________________________________\n",
      "For max_depth of 20\n",
      "Train logloss:  0.06572062387880964\n"
     ]
    },
    {
     "name": "stderr",
     "output_type": "stream",
     "text": [
      "\r",
      " 75%|███████▌  | 3/4 [12:12<03:42, 222.53s/it]"
     ]
    },
    {
     "name": "stdout",
     "output_type": "stream",
     "text": [
      "CV logloss:  0.1257160472400046\n",
      "____________________________________________\n",
      "For max_depth of 30\n",
      "Train logloss:  0.009126405480457858\n"
     ]
    },
    {
     "name": "stderr",
     "output_type": "stream",
     "text": [
      "100%|██████████| 4/4 [19:33<00:00, 293.48s/it]"
     ]
    },
    {
     "name": "stdout",
     "output_type": "stream",
     "text": [
      "CV logloss:  0.13230464350498783\n",
      "____________________________________________\n"
     ]
    },
    {
     "name": "stderr",
     "output_type": "stream",
     "text": [
      "\n"
     ]
    }
   ],
   "source": [
    "max_depth = [5,10,20,30] \n",
    "for i in tqdm(max_depth)\n",
    "    clf=DecisionTreeClassifier(max_depth=i)\n",
    "    clf.fit(X_tr,y_tr)\n",
    "    yp_tr= clf.predict_proba(X_tr)\n",
    "    yp_cv= clf.predict_proba(X_cv)\n",
    "    print('For max_depth of',i)\n",
    "    print(\"Train logloss: \",log_loss(y_tr,yp_tr))\n",
    "    print(\"CV logloss: \",log_loss(y_cv,yp_cv))\n",
    "    print('____________________________________________')"
   ]
  },
  {
   "cell_type": "markdown",
   "metadata": {
    "id": "dJPHyNX2lXYH"
   },
   "source": [
    "Best cv logloss is 0.12 for tree depth of 20 nodes."
   ]
  },
  {
   "cell_type": "code",
   "execution_count": null,
   "metadata": {
    "colab": {
     "base_uri": "https://localhost:8080/"
    },
    "id": "mkm9mM2mmVGb",
    "outputId": "ff7e40fa-a430-4482-e43f-838b9a5f6851"
   },
   "outputs": [
    {
     "data": {
      "text/plain": [
       "DecisionTreeClassifier(ccp_alpha=0.0, class_weight=None, criterion='gini',\n",
       "                       max_depth=20, max_features=None, max_leaf_nodes=None,\n",
       "                       min_impurity_decrease=0.0, min_impurity_split=None,\n",
       "                       min_samples_leaf=1, min_samples_split=2,\n",
       "                       min_weight_fraction_leaf=0.0, presort='deprecated',\n",
       "                       random_state=None, splitter='best')"
      ]
     },
     "execution_count": 12,
     "metadata": {
      "tags": []
     },
     "output_type": "execute_result"
    }
   ],
   "source": [
    "dt=DecisionTreeClassifier(max_depth=20)\n",
    "dt.fit(X_tr,y_tr)"
   ]
  },
  {
   "cell_type": "code",
   "execution_count": null,
   "metadata": {
    "id": "Bl2imPiAmxRn"
   },
   "outputs": [],
   "source": [
    "pickle.dump(dt,open('dt','wb'))"
   ]
  },
  {
   "cell_type": "markdown",
   "metadata": {
    "id": "FSarPRpH0gj6"
   },
   "source": [
    "### AdaBoost Classifier"
   ]
  },
  {
   "cell_type": "code",
   "execution_count": null,
   "metadata": {
    "colab": {
     "base_uri": "https://localhost:8080/"
    },
    "id": "nrL3QXSSrDGb",
    "outputId": "0df976e4-7b99-4349-f4cd-a7d65da52562"
   },
   "outputs": [
    {
     "name": "stdout",
     "output_type": "stream",
     "text": [
      "Train logloss:  0.4714267234535248\n",
      "CV logloss:  0.47140811647737424\n",
      "____________________________________________\n",
      "Train logloss:  0.4714267234535248\n",
      "CV logloss:  0.47140811647737424\n",
      "____________________________________________\n"
     ]
    }
   ],
   "source": [
    "n=[50,100]\n",
    "for i in n:\n",
    "    adb = AdaBoostClassifier(n_estimators=i)\n",
    "    adb.fit(X_tr, y_tr)\n",
    "    yp_tr= xgb.predict_proba(X_tr)\n",
    "    yp_cv= xgb.predict_proba(X_cv)\n",
    "    print(\"Train logloss: \",log_loss(y_tr,yp_tr))\n",
    "    print(\"CV logloss: \",log_loss(y_cv,yp_cv))\n",
    "    print('____________________________________________')"
   ]
  },
  {
   "cell_type": "code",
   "execution_count": null,
   "metadata": {
    "colab": {
     "base_uri": "https://localhost:8080/"
    },
    "id": "g6YzKLTR9hUG",
    "outputId": "915a7fa1-25e9-4b65-c6b4-73db656bd4a9"
   },
   "outputs": [
    {
     "data": {
      "text/plain": [
       "AdaBoostClassifier(algorithm='SAMME.R', base_estimator=None, learning_rate=1.0,\n",
       "                   n_estimators=50, random_state=None)"
      ]
     },
     "execution_count": 14,
     "metadata": {
      "tags": []
     },
     "output_type": "execute_result"
    }
   ],
   "source": [
    "adb = AdaBoostClassifier(n_estimators=50)\n",
    "adb.fit(X_tr, y_tr)"
   ]
  },
  {
   "cell_type": "code",
   "execution_count": null,
   "metadata": {
    "id": "SiEMeKETEd8g"
   },
   "outputs": [],
   "source": [
    "pickle.dump(adb,open('adb','wb'))"
   ]
  },
  {
   "cell_type": "markdown",
   "metadata": {
    "id": "hUGS3F08I7Sm"
   },
   "source": [
    "### Random Forest"
   ]
  },
  {
   "cell_type": "code",
   "execution_count": null,
   "metadata": {
    "colab": {
     "base_uri": "https://localhost:8080/"
    },
    "id": "lMiTlhZ1pDFU",
    "outputId": "0e340fa4-cfad-4553-b15c-d50da8542b7f"
   },
   "outputs": [
    {
     "name": "stdout",
     "output_type": "stream",
     "text": [
      "Train logloss:  0.027534669474056726\n",
      "CV logloss:  0.08246289949394532\n"
     ]
    }
   ],
   "source": [
    "clf=RandomForestClassifier()\n",
    "clf.fit(X_tr,y_tr)\n",
    "yp_tr= clf.predict_proba(X_tr)\n",
    "yp_cv= clf.predict_proba(X_cv)\n",
    "print(\"Train logloss: \",log_loss(y_tr,yp_tr))\n",
    "print(\"CV logloss: \",log_loss(y_cv,yp_cv))"
   ]
  },
  {
   "cell_type": "markdown",
   "metadata": {
    "id": "qBfW9kIEWRdf"
   },
   "source": [
    "As, Random forest model is giving best score, we try to find best parameters giving least logloss."
   ]
  },
  {
   "cell_type": "markdown",
   "metadata": {
    "id": "h9Ik6CQTUzEq"
   },
   "source": [
    "Hyperparameter tuning on Random forest"
   ]
  },
  {
   "cell_type": "code",
   "execution_count": null,
   "metadata": {
    "colab": {
     "base_uri": "https://localhost:8080/"
    },
    "id": "wu1IbOBbH5KM",
    "outputId": "24a19a7c-851f-4b79-a0d9-75563495fb24"
   },
   "outputs": [
    {
     "name": "stderr",
     "output_type": "stream",
     "text": [
      "\r",
      "  0%|          | 0/3 [00:00<?, ?it/s]"
     ]
    },
    {
     "name": "stdout",
     "output_type": "stream",
     "text": [
      "With 20 estimators\n",
      "With tree depth of 10\n",
      "Train logloss:  0.3341263239422819\n",
      "CV logloss:  0.3500493474013759\n",
      "With tree depth of 20\n",
      "Train logloss:  0.31636409932186677\n",
      "CV logloss:  0.3302590622860466\n",
      "With tree depth of 30\n",
      "Train logloss:  0.3215623517851082\n"
     ]
    },
    {
     "name": "stderr",
     "output_type": "stream",
     "text": [
      "\r",
      " 33%|███▎      | 1/3 [27:48<55:37, 1668.70s/it]"
     ]
    },
    {
     "name": "stdout",
     "output_type": "stream",
     "text": [
      "CV logloss:  0.3361050080253603\n",
      "____________________________________________\n",
      "With 80 estimators\n",
      "With tree depth of 10\n",
      "Train logloss:  0.027021071897901056\n",
      "CV logloss:  0.08988155553903741\n",
      "With tree depth of 20\n",
      "Train logloss:  0.027142792841086893\n",
      "CV logloss:  0.0820887237996315\n",
      "With tree depth of 30\n",
      "Train logloss:  0.028142926352770787\n"
     ]
    },
    {
     "name": "stderr",
     "output_type": "stream",
     "text": [
      "\r",
      " 67%|██████▋   | 2/3 [1:11:25<32:33, 1953.26s/it]"
     ]
    },
    {
     "name": "stdout",
     "output_type": "stream",
     "text": [
      "CV logloss:  0.08503707067207067\n",
      "____________________________________________\n",
      "With 100 estimators\n",
      "With tree depth of 10\n",
      "Train logloss:  0.027939019329282434\n",
      "CV logloss:  0.09487499926135429\n",
      "With tree depth of 20\n",
      "Train logloss:  0.02382489971179354\n",
      "CV logloss:  0.07296221431277189\n",
      "With tree depth of 30\n",
      "Train logloss:  0.027437726967649616\n"
     ]
    },
    {
     "name": "stderr",
     "output_type": "stream",
     "text": [
      "100%|██████████| 3/3 [1:53:58<00:00, 2279.56s/it]"
     ]
    },
    {
     "name": "stdout",
     "output_type": "stream",
     "text": [
      "CV logloss:  0.08256904374555427\n",
      "____________________________________________\n"
     ]
    },
    {
     "name": "stderr",
     "output_type": "stream",
     "text": [
      "\n"
     ]
    }
   ],
   "source": [
    "n_estimators=[20,80,100]\n",
    "max_depth = [10,20,30] \n",
    "for j in tqdm(n_estimators):\n",
    "    print(\"With\",j,\"estimators\")\n",
    "    for i in max_depth:\n",
    "        clf=RandomForestClassifier(n_estimators=i,max_depth=j)\n",
    "        clf.fit(X_tr,y_tr)\n",
    "        yp_tr= clf.predict_proba(X_tr)\n",
    "        yp_cv= clf.predict_proba(X_cv)\n",
    "        print(\"With tree depth of\",i)\n",
    "        print(\"Train logloss: \",log_loss(y_tr,yp_tr))\n",
    "        print(\"CV logloss: \",log_loss(y_cv,yp_cv))\n",
    "    print('____________________________________________')"
   ]
  },
  {
   "cell_type": "code",
   "execution_count": null,
   "metadata": {
    "id": "oOIHmMLVUqu3"
   },
   "outputs": [],
   "source": [
    "rf=RandomForestClassifier(max_depth=40)\n",
    "rf.fit(X_tr,y_tr)"
   ]
  },
  {
   "cell_type": "code",
   "execution_count": null,
   "metadata": {
    "id": "wibwKc0aW540"
   },
   "outputs": [],
   "source": [
    "pickle.dump(rf,open('best_clf','wb'))"
   ]
  },
  {
   "cell_type": "markdown",
   "metadata": {
    "id": "nMjy25b1msta"
   },
   "source": [
    "## Stacking"
   ]
  },
  {
   "cell_type": "code",
   "execution_count": null,
   "metadata": {
    "id": "l070ZB7UmwNh"
   },
   "outputs": [],
   "source": [
    "lr = LogisticRegression(penalty='l1',C=0.1,solver='liblinear')\n",
    "dt=DecisionTreeClassifier(max_depth=20)\n",
    "xgb=XGBClassifier(max_depth=5,verbose=1)\n",
    "adb = AdaBoostClassifier(n_estimators=50,learning_rate= 0.75)\n",
    "rf=RandomForestClassifier(max_depth=40,n_jobs=-1,verbose=1)\n",
    "svc= SVC(kernel='rbf', C=0.025, probability=True)"
   ]
  },
  {
   "cell_type": "markdown",
   "metadata": {
    "id": "Tky1hycvbQoa"
   },
   "source": [
    "### 1."
   ]
  },
  {
   "cell_type": "code",
   "execution_count": null,
   "metadata": {
    "id": "rVfG4HgDprem"
   },
   "outputs": [],
   "source": [
    "#https://www.kaggle.com/thomasnelson/simple-stacking-classifier-for-beginners\n",
    "sclf = StackingCVClassifier(classifiers=[lr, dt, adb], \n",
    "                            use_probas=True,\n",
    "                            meta_classifier=rf)"
   ]
  },
  {
   "cell_type": "code",
   "execution_count": null,
   "metadata": {
    "id": "oQcPeBRzxV9W"
   },
   "outputs": [],
   "source": [
    "sclf1.fit(X_tr.values,y_tr.values)"
   ]
  },
  {
   "cell_type": "code",
   "execution_count": null,
   "metadata": {
    "colab": {
     "base_uri": "https://localhost:8080/"
    },
    "id": "6zy3QCbGyeBs",
    "outputId": "73a59af5-5bc9-45ce-b4ab-15473593bfdb"
   },
   "outputs": [
    {
     "name": "stdout",
     "output_type": "stream",
     "text": [
      "Train logloss:  0.07848625725269495\n",
      "CV logloss:  0.09339712085322266\n"
     ]
    }
   ],
   "source": [
    "yp_tr= sclf1.predict_proba(X_tr)\n",
    "yp_cv= sclf1.predict_proba(X_cv)\n",
    "print(\"Train logloss: \",log_loss(y_tr,yp_tr))\n",
    "print(\"CV logloss: \",log_loss(y_cv,yp_cv))"
   ]
  },
  {
   "cell_type": "code",
   "execution_count": null,
   "metadata": {
    "id": "_uz1UuuPHsTb"
   },
   "outputs": [],
   "source": [
    "pickle.dump(sclf1,open('stacking','wb'))"
   ]
  },
  {
   "cell_type": "markdown",
   "metadata": {
    "id": "BSlIe9aYY92j"
   },
   "source": [
    "### 2."
   ]
  },
  {
   "cell_type": "code",
   "execution_count": null,
   "metadata": {
    "id": "e3BlrYVBZAEy"
   },
   "outputs": [],
   "source": [
    "sclf2 = StackingCVClassifier(classifiers=[dt,xgb,svc], use_probas=True, meta_classifier=rf)"
   ]
  },
  {
   "cell_type": "code",
   "execution_count": null,
   "metadata": {
    "id": "xjBi7LCSayf5"
   },
   "outputs": [],
   "source": [
    "sclf2.fit(X_tr.values,y_tr.values)"
   ]
  },
  {
   "cell_type": "code",
   "execution_count": null,
   "metadata": {
    "id": "RAErwxrkbPGT"
   },
   "outputs": [],
   "source": [
    "yp_tr2= sclf2.predict_proba(X_tr)\n",
    "yp_cv2= sclf2.predict_proba(X_cv)"
   ]
  },
  {
   "cell_type": "code",
   "execution_count": null,
   "metadata": {
    "colab": {
     "base_uri": "https://localhost:8080/"
    },
    "id": "huc0UG74tnE9",
    "outputId": "c297cc86-3b09-404a-cdc6-8a7a13d30f2b"
   },
   "outputs": [
    {
     "name": "stdout",
     "output_type": "stream",
     "text": [
      "Train logloss:  0.005130631969277596\n",
      "CV logloss:  0.016359747904336603\n"
     ]
    }
   ],
   "source": [
    "print(\"Train logloss: \",log_loss(y_tr,yp_tr2))\n",
    "print(\"CV logloss: \",log_loss(y_cv,yp_cv2))"
   ]
  },
  {
   "cell_type": "code",
   "execution_count": null,
   "metadata": {
    "id": "uVO-SQz1bddy"
   },
   "outputs": [],
   "source": [
    "pickle.dump(sclf2,open('stack2','wb'))"
   ]
  },
  {
   "cell_type": "markdown",
   "metadata": {
    "id": "d-IEPXvlt4DN"
   },
   "source": [
    "### 3."
   ]
  },
  {
   "cell_type": "code",
   "execution_count": null,
   "metadata": {
    "id": "X7bhBdOwt6eh"
   },
   "outputs": [],
   "source": [
    "sclf3 = StackingCVClassifier(classifiers=[lr, rf, adb], use_probas=True, meta_classifier=lr)"
   ]
  },
  {
   "cell_type": "code",
   "execution_count": null,
   "metadata": {
    "id": "LOO6UXyWxE4c"
   },
   "outputs": [],
   "source": [
    "sclf3.fit(X_tr.values,y_tr.values)"
   ]
  },
  {
   "cell_type": "code",
   "execution_count": null,
   "metadata": {
    "id": "INggPFWIxUW7"
   },
   "outputs": [],
   "source": [
    "yp_tr3= sclf3.predict_proba(X_tr)\n",
    "yp_cv3= sclf3.predict_proba(X_cv)"
   ]
  },
  {
   "cell_type": "code",
   "execution_count": null,
   "metadata": {
    "colab": {
     "base_uri": "https://localhost:8080/"
    },
    "id": "nKMxyWU3yaWi",
    "outputId": "5d49393e-23ec-4528-bc74-9b0d75914cb9"
   },
   "outputs": [
    {
     "name": "stdout",
     "output_type": "stream",
     "text": [
      "Train logloss:  0.003391153744715614\n",
      "CV logloss:  0.023784883684558535\n"
     ]
    }
   ],
   "source": [
    "print(\"Train logloss: \",log_loss(y_tr,yp_tr3))\n",
    "print(\"CV logloss: \",log_loss(y_cv,yp_cv3))"
   ]
  },
  {
   "cell_type": "code",
   "execution_count": null,
   "metadata": {
    "id": "AAZlU7v9yeJq"
   },
   "outputs": [],
   "source": [
    "pickle.dump(sclf3,open('stack3','wb'))"
   ]
  }
 ],
 "metadata": {
  "accelerator": "GPU",
  "colab": {
   "collapsed_sections": [],
   "machine_shape": "hm",
   "name": "Modelling_CS_1.ipynb",
   "provenance": [],
   "toc_visible": true
  },
  "kernelspec": {
   "display_name": "Python 3",
   "language": "python",
   "name": "python3"
  },
  "language_info": {
   "codemirror_mode": {
    "name": "ipython",
    "version": 3
   },
   "file_extension": ".py",
   "mimetype": "text/x-python",
   "name": "python",
   "nbconvert_exporter": "python",
   "pygments_lexer": "ipython3",
   "version": "3.6.5"
  }
 },
 "nbformat": 4,
 "nbformat_minor": 1
}

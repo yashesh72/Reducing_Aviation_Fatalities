{
  "nbformat": 4,
  "nbformat_minor": 0,
  "metadata": {
    "colab": {
      "name": "submissions.ipynb",
      "provenance": [],
      "collapsed_sections": [],
      "toc_visible": true,
      "machine_shape": "hm"
    },
    "kernelspec": {
      "name": "python3",
      "display_name": "Python 3"
    },
    "accelerator": "GPU"
  },
  "cells": [
    {
      "cell_type": "code",
      "metadata": {
        "id": "3r7ahfioJuYL"
      },
      "source": [
        "%matplotlib inline\r\n",
        "import warnings\r\n",
        "warnings.filterwarnings(\"ignore\")\r\n",
        "import numpy as np\r\n",
        "import pandas as pd\r\n",
        "import pickle\r\n",
        "from tqdm import tqdm\r\n",
        "import os\r\n",
        "import zipfile\r\n",
        "from sklearn.metrics import log_loss\r\n",
        "import matplotlib.pyplot as plt\r\n"
      ],
      "execution_count": null,
      "outputs": []
    },
    {
      "cell_type": "code",
      "metadata": {
        "id": "Tu966RgLRYD2"
      },
      "source": [
        "test=pickle.load(open('/content/drive/My Drive/Casestudy-1/test_fe','rb'))"
      ],
      "execution_count": null,
      "outputs": []
    },
    {
      "cell_type": "markdown",
      "metadata": {
        "id": "NyR4Z6Mip7Bz"
      },
      "source": [
        "### Random Forest"
      ]
    },
    {
      "cell_type": "code",
      "metadata": {
        "id": "E3mkOKdBJqAS"
      },
      "source": [
        "rf=pickle.load(open('/content/drive/My Drive/Casestudy-1/best_clf','rb'))"
      ],
      "execution_count": null,
      "outputs": []
    },
    {
      "cell_type": "code",
      "metadata": {
        "id": "b0laV6HsJrqk"
      },
      "source": [
        "yp_test= rf.predict_proba(test)"
      ],
      "execution_count": null,
      "outputs": []
    },
    {
      "cell_type": "code",
      "metadata": {
        "id": "toqOT6o7JuH9"
      },
      "source": [
        "submission=pd.DataFrame()\r\n",
        "submission[\"id\"]=np.arange(0,17965143)\r\n",
        "submission[\"A\"]=yp_test[:,0]\r\n",
        "submission[\"B\"]=yp_test[:,1]\r\n",
        "submission[\"C\"]=yp_test[:,2]\r\n",
        "submission[\"D\"]=yp_test[:,3]"
      ],
      "execution_count": null,
      "outputs": []
    },
    {
      "cell_type": "code",
      "metadata": {
        "id": "RNoajU52LMvw"
      },
      "source": [
        "submission.to_csv(\"/content/drive/MyDrive/Casestudy-1/submit.csv\",index=False)"
      ],
      "execution_count": null,
      "outputs": []
    },
    {
      "cell_type": "code",
      "metadata": {
        "id": "mzxU5EGaLwag"
      },
      "source": [
        "!kaggle competitions submit reducing-commercial-aviation-fatalities -f submit.csv -m \".\""
      ],
      "execution_count": null,
      "outputs": []
    },
    {
      "cell_type": "markdown",
      "metadata": {
        "id": "bNkAj2VqqBY7"
      },
      "source": [
        "### Logistic Regression"
      ]
    },
    {
      "cell_type": "code",
      "metadata": {
        "id": "A6KOEReCqFIQ"
      },
      "source": [
        "log_reg=pickle.load(open('/content/drive/My Drive/Casestudy-1/log_reg','rb'))"
      ],
      "execution_count": null,
      "outputs": []
    },
    {
      "cell_type": "code",
      "metadata": {
        "id": "9tYHhE4-1FTR"
      },
      "source": [
        "yp_test_lr= log_reg.predict_proba(test)"
      ],
      "execution_count": null,
      "outputs": []
    },
    {
      "cell_type": "code",
      "metadata": {
        "id": "ibiIAtiWKdCG"
      },
      "source": [
        "submission=pd.DataFrame()\r\n",
        "submission[\"id\"]=np.arange(0,17965143)\r\n",
        "submission[\"A\"]=yp_test_lr[:,0]\r\n",
        "submission[\"B\"]=yp_test_lr[:,1]\r\n",
        "submission[\"C\"]=yp_test_lr[:,2]\r\n",
        "submission[\"D\"]=yp_test_lr[:,3]"
      ],
      "execution_count": null,
      "outputs": []
    },
    {
      "cell_type": "code",
      "metadata": {
        "id": "FdoT7WoDLyAh"
      },
      "source": [
        "submission.to_csv(\"sub_lr\",index=False)"
      ],
      "execution_count": null,
      "outputs": []
    },
    {
      "cell_type": "code",
      "metadata": {
        "colab": {
          "base_uri": "https://localhost:8080/"
        },
        "id": "yJacLSaUL6jG",
        "outputId": "c1f0a502-ae3a-4c34-c34b-477aed4d245a"
      },
      "source": [
        "!kaggle competitions submit reducing-commercial-aviation-fatalities -f sub_lr -m \"logistic_Regression\""
      ],
      "execution_count": null,
      "outputs": [
        {
          "output_type": "stream",
          "text": [
            "100% 1.47G/1.47G [01:25<00:00, 18.4MB/s]\n",
            "Successfully submitted to Reducing Commercial Aviation Fatalities"
          ],
          "name": "stdout"
        }
      ]
    },
    {
      "cell_type": "markdown",
      "metadata": {
        "id": "9dl13VNY1kJg"
      },
      "source": [
        "### Decision Tree"
      ]
    },
    {
      "cell_type": "code",
      "metadata": {
        "id": "VpFtVRkX1qK8"
      },
      "source": [
        "dt=pickle.load(open('/content/drive/My Drive/Casestudy-1/dt','rb'))"
      ],
      "execution_count": null,
      "outputs": []
    },
    {
      "cell_type": "code",
      "metadata": {
        "id": "a4-_LV7e1o9Z"
      },
      "source": [
        "yp_dt= dt.predict_proba(test)"
      ],
      "execution_count": null,
      "outputs": []
    },
    {
      "cell_type": "code",
      "metadata": {
        "id": "gCVlsxVmTGBd"
      },
      "source": [
        "sub_dt=pd.DataFrame()\r\n",
        "sub_dt[\"id\"]=np.arange(0,17965143)\r\n",
        "sub_dt[\"A\"]=yp_dt[:,0]\r\n",
        "sub_dt[\"B\"]=yp_dt[:,1]\r\n",
        "sub_dt[\"C\"]=yp_dt[:,2]\r\n",
        "sub_dt[\"D\"]=yp_dt[:,3]"
      ],
      "execution_count": null,
      "outputs": []
    },
    {
      "cell_type": "code",
      "metadata": {
        "id": "eKZSvMbTViIe"
      },
      "source": [
        "sub_dt.to_csv(\"sub_dt.csv\",index=False)"
      ],
      "execution_count": null,
      "outputs": []
    },
    {
      "cell_type": "code",
      "metadata": {
        "colab": {
          "base_uri": "https://localhost:8080/"
        },
        "id": "Uc6oAt6ZVvpT",
        "outputId": "50a2a2bf-d5c3-48d4-8810-68952fd05639"
      },
      "source": [
        "!kaggle competitions submit reducing-commercial-aviation-fatalities -f sub_dt.csv -m \"Decision Tree\""
      ],
      "execution_count": null,
      "outputs": [
        {
          "output_type": "stream",
          "text": [
            "100% 439M/439M [00:10<00:00, 43.0MB/s]\n",
            "Successfully submitted to Reducing Commercial Aviation Fatalities"
          ],
          "name": "stdout"
        }
      ]
    },
    {
      "cell_type": "markdown",
      "metadata": {
        "id": "a4JSqeL9W_9f"
      },
      "source": [
        "### AdaBoost Classifier"
      ]
    },
    {
      "cell_type": "code",
      "metadata": {
        "id": "dUwzF_ZNXDR_"
      },
      "source": [
        "adb=pickle.load(open('/content/drive/My Drive/Casestudy-1/adb','rb'))"
      ],
      "execution_count": null,
      "outputs": []
    },
    {
      "cell_type": "code",
      "metadata": {
        "id": "JpQEPHaIXeE1"
      },
      "source": [
        "yp_adb= adb.predict_proba(test)"
      ],
      "execution_count": null,
      "outputs": []
    },
    {
      "cell_type": "code",
      "metadata": {
        "colab": {
          "base_uri": "https://localhost:8080/"
        },
        "id": "K0CpBRhDcClP",
        "outputId": "f07eba97-85fb-4408-8180-4853f70f40e1"
      },
      "source": [
        "yp_adb"
      ],
      "execution_count": null,
      "outputs": [
        {
          "output_type": "execute_result",
          "data": {
            "text/plain": [
              "array([[0.26642784, 0.20153855, 0.27844618, 0.25358743],\n",
              "       [0.26791708, 0.19677645, 0.27202167, 0.2632848 ],\n",
              "       [0.26791708, 0.19677645, 0.27202167, 0.2632848 ],\n",
              "       ...,\n",
              "       [0.26331253, 0.21338208, 0.27071202, 0.25259337],\n",
              "       [0.26314616, 0.2124925 , 0.27004153, 0.25431982],\n",
              "       [0.28142442, 0.22891121, 0.29389861, 0.19576576]])"
            ]
          },
          "metadata": {
            "tags": []
          },
          "execution_count": 28
        }
      ]
    },
    {
      "cell_type": "code",
      "metadata": {
        "id": "BkYnQdbcXgYa"
      },
      "source": [
        "sub_adb=pd.DataFrame()\r\n",
        "sub_adb[\"id\"]=np.arange(0,17965143)\r\n",
        "sub_adb[\"A\"]=yp_adb[:,0]\r\n",
        "sub_adb[\"B\"]=yp_adb[:,1]\r\n",
        "sub_adb[\"C\"]=yp_adb[:,2]\r\n",
        "sub_adb[\"D\"]=yp_adb[:,3]"
      ],
      "execution_count": null,
      "outputs": []
    },
    {
      "cell_type": "code",
      "metadata": {
        "id": "MvflQR_pYjFl"
      },
      "source": [
        "sub_adb.to_csv(\"sub_adb.csv\",index=False)"
      ],
      "execution_count": null,
      "outputs": []
    },
    {
      "cell_type": "code",
      "metadata": {
        "colab": {
          "base_uri": "https://localhost:8080/"
        },
        "id": "g6n2qD0FYdqL",
        "outputId": "cb7af03b-d184-496c-db33-fdd90f1fb824"
      },
      "source": [
        "!kaggle competitions submit reducing-commercial-aviation-fatalities -f sub_adb.csv -m \"AdaBoost\""
      ],
      "execution_count": null,
      "outputs": [
        {
          "output_type": "stream",
          "text": [
            "100% 1.44G/1.44G [00:28<00:00, 54.7MB/s]\n",
            "Successfully submitted to Reducing Commercial Aviation Fatalities"
          ],
          "name": "stdout"
        }
      ]
    },
    {
      "cell_type": "markdown",
      "metadata": {
        "id": "LNi6IPxyYxvd"
      },
      "source": [
        "### Random Model"
      ]
    },
    {
      "cell_type": "code",
      "metadata": {
        "id": "SKeKP2tLbM5z"
      },
      "source": [
        "yp_random =random(test)"
      ],
      "execution_count": null,
      "outputs": []
    },
    {
      "cell_type": "code",
      "metadata": {
        "id": "MfneRhRabVnG"
      },
      "source": [
        "yp_r=np.array(yp_random)"
      ],
      "execution_count": null,
      "outputs": []
    },
    {
      "cell_type": "code",
      "metadata": {
        "id": "zAT8XzMkbTlz"
      },
      "source": [
        "sub_r=pd.DataFrame()\r\n",
        "sub_r[\"id\"]=np.arange(0,17965143)\r\n",
        "sub_r[\"A\"]=yp_r[:,0]\r\n",
        "sub_r[\"B\"]=yp_r[:,1]\r\n",
        "sub_r[\"C\"]=yp_r[:,2]\r\n",
        "sub_r[\"D\"]=yp_r[:,3]"
      ],
      "execution_count": null,
      "outputs": []
    },
    {
      "cell_type": "code",
      "metadata": {
        "id": "4n0Y19N_c9ad"
      },
      "source": [
        "sub_r.to_csv(\"sub_r.csv\",index=False)"
      ],
      "execution_count": null,
      "outputs": []
    },
    {
      "cell_type": "code",
      "metadata": {
        "colab": {
          "base_uri": "https://localhost:8080/"
        },
        "id": "XbipzPGEdNDf",
        "outputId": "a05208ee-729f-4cc2-c363-17e2ce2a7107"
      },
      "source": [
        "!kaggle competitions submit reducing-commercial-aviation-fatalities -f sub_r.csv -m \"Random model\""
      ],
      "execution_count": null,
      "outputs": [
        {
          "output_type": "stream",
          "text": [
            "100% 1.45G/1.45G [00:43<00:00, 36.0MB/s]\n",
            "Successfully submitted to Reducing Commercial Aviation Fatalities"
          ],
          "name": "stdout"
        }
      ]
    },
    {
      "cell_type": "markdown",
      "metadata": {
        "id": "Yxv_9gBqIFKA"
      },
      "source": [
        "### Stacking Classifiers"
      ]
    },
    {
      "cell_type": "markdown",
      "metadata": {
        "id": "l_jWty-8uZjX"
      },
      "source": [
        "1."
      ]
    },
    {
      "cell_type": "code",
      "metadata": {
        "id": "_oEeNbi3IExJ"
      },
      "source": [
        "sclf=pickle.load(open('/content/drive/My Drive/Casestudy-1/stacking','rb'))"
      ],
      "execution_count": null,
      "outputs": []
    },
    {
      "cell_type": "code",
      "metadata": {
        "id": "IVFiuH-bIPls"
      },
      "source": [
        "yp_sclf= sclf.predict_proba(test)"
      ],
      "execution_count": null,
      "outputs": []
    },
    {
      "cell_type": "code",
      "metadata": {
        "id": "QE-tK6zLIS5a"
      },
      "source": [
        "sub_sclf=pd.DataFrame()\r\n",
        "sub_sclf[\"id\"]=np.arange(0,17965143)\r\n",
        "sub_sclf[\"A\"]=yp_sclf[:,0]\r\n",
        "sub_sclf[\"B\"]=yp_sclf[:,1]\r\n",
        "sub_sclf[\"C\"]=yp_sclf[:,2]\r\n",
        "sub_sclf[\"D\"]=yp_sclf[:,3]"
      ],
      "execution_count": null,
      "outputs": []
    },
    {
      "cell_type": "code",
      "metadata": {
        "id": "hzDb5xkRIXF7"
      },
      "source": [
        "sub_sclf.to_csv(\"sub_sclf.csv\",index=False)"
      ],
      "execution_count": null,
      "outputs": []
    },
    {
      "cell_type": "code",
      "metadata": {
        "colab": {
          "base_uri": "https://localhost:8080/"
        },
        "id": "Ue0h2MuTIZD2",
        "outputId": "d9251ca4-7bd9-49e1-a24e-a84bd45dd6b7"
      },
      "source": [
        "!kaggle competitions submit reducing-commercial-aviation-fatalities -f sub_sclf.csv -m \"lr, dt, adb,RF\""
      ],
      "execution_count": null,
      "outputs": [
        {
          "output_type": "stream",
          "text": [
            "100% 1.05G/1.05G [00:10<00:00, 109MB/s]\n",
            "Successfully submitted to Reducing Commercial Aviation Fatalities"
          ],
          "name": "stdout"
        }
      ]
    },
    {
      "cell_type": "markdown",
      "metadata": {
        "id": "mGz6WfLluX8b"
      },
      "source": [
        "2."
      ]
    },
    {
      "cell_type": "code",
      "metadata": {
        "id": "3zop8y1Zucbt"
      },
      "source": [
        "sclf2=pickle.load(open('/content/drive/My Drive/Casestudy-1/stack2','rb'))"
      ],
      "execution_count": null,
      "outputs": []
    },
    {
      "cell_type": "code",
      "metadata": {
        "colab": {
          "base_uri": "https://localhost:8080/"
        },
        "id": "h_guEneVufeA",
        "outputId": "9d3e8099-02b2-4aa2-d537-a1e5e144a325"
      },
      "source": [
        "yp_sclf2= sclf2.predict_proba(test)"
      ],
      "execution_count": null,
      "outputs": [
        {
          "output_type": "stream",
          "text": [
            "[Parallel(n_jobs=4)]: Using backend ThreadingBackend with 4 concurrent workers.\n",
            "[Parallel(n_jobs=4)]: Done  42 tasks      | elapsed:   53.1s\n",
            "[Parallel(n_jobs=4)]: Done 100 out of 100 | elapsed:  2.0min finished\n",
            "[Parallel(n_jobs=4)]: Using backend ThreadingBackend with 4 concurrent workers.\n",
            "[Parallel(n_jobs=4)]: Done  42 tasks      | elapsed:   26.8s\n",
            "[Parallel(n_jobs=4)]: Done 100 out of 100 | elapsed:  1.0min finished\n"
          ],
          "name": "stderr"
        }
      ]
    },
    {
      "cell_type": "code",
      "metadata": {
        "id": "xKdvMA92ulNo"
      },
      "source": [
        "sub_sclf2=pd.DataFrame()\r\n",
        "sub_sclf2[\"id\"]=np.arange(0,17965143)\r\n",
        "sub_sclf2[\"A\"]=yp_sclf2[:,0]\r\n",
        "sub_sclf2[\"B\"]=yp_sclf2[:,1]\r\n",
        "sub_sclf2[\"C\"]=yp_sclf2[:,2]\r\n",
        "sub_sclf2[\"D\"]=yp_sclf2[:,3]"
      ],
      "execution_count": null,
      "outputs": []
    },
    {
      "cell_type": "code",
      "metadata": {
        "id": "YIDY1uzgv3Od"
      },
      "source": [
        "sub_sclf2.to_csv(\"stack2.csv\",index=False)"
      ],
      "execution_count": null,
      "outputs": []
    },
    {
      "cell_type": "code",
      "metadata": {
        "colab": {
          "base_uri": "https://localhost:8080/"
        },
        "id": "InghHKs0u7lW",
        "outputId": "0f0f623c-a456-4292-bc08-01ac811a4840"
      },
      "source": [
        "!kaggle competitions submit reducing-commercial-aviation-fatalities -f stack2.csv -m \"DT+XGB+SVC,RF\""
      ],
      "execution_count": null,
      "outputs": [
        {
          "output_type": "stream",
          "text": [
            "100% 454M/454M [00:10<00:00, 46.4MB/s]\n",
            "Successfully submitted to Reducing Commercial Aviation Fatalities"
          ],
          "name": "stdout"
        }
      ]
    },
    {
      "cell_type": "markdown",
      "metadata": {
        "id": "b84MYbX9xBmV"
      },
      "source": [
        "3."
      ]
    },
    {
      "cell_type": "code",
      "metadata": {
        "id": "ubnD0dhvxCnf"
      },
      "source": [
        "sclf3=pickle.load(open('/content/drive/My Drive/Casestudy-1/stack3','rb'))"
      ],
      "execution_count": null,
      "outputs": []
    },
    {
      "cell_type": "code",
      "metadata": {
        "colab": {
          "base_uri": "https://localhost:8080/"
        },
        "id": "y3fpZKYDaKf4",
        "outputId": "7675fbef-0d09-434c-e2ac-797253da8ec0"
      },
      "source": [
        "yp_sclf3= sclf3.predict_proba(test)"
      ],
      "execution_count": null,
      "outputs": [
        {
          "output_type": "stream",
          "text": [
            "[Parallel(n_jobs=4)]: Using backend ThreadingBackend with 4 concurrent workers.\n",
            "[Parallel(n_jobs=4)]: Done  42 tasks      | elapsed:  1.0min\n",
            "[Parallel(n_jobs=4)]: Done 100 out of 100 | elapsed:  2.3min finished\n"
          ],
          "name": "stderr"
        }
      ]
    },
    {
      "cell_type": "code",
      "metadata": {
        "id": "XaVFGbWAZWnn"
      },
      "source": [
        "sub_sclf3=pd.DataFrame()\r\n",
        "sub_sclf3[\"id\"]=np.arange(0,17965143)\r\n",
        "sub_sclf3[\"A\"]=yp_sclf3[:,0]\r\n",
        "sub_sclf3[\"B\"]=yp_sclf3[:,1]\r\n",
        "sub_sclf3[\"C\"]=yp_sclf3[:,2]\r\n",
        "sub_sclf3[\"D\"]=yp_sclf3[:,3]"
      ],
      "execution_count": null,
      "outputs": []
    },
    {
      "cell_type": "code",
      "metadata": {
        "id": "VBJD31QUZ7wl"
      },
      "source": [
        "sub_sclf3.to_csv(\"stack3.csv\",index=False)"
      ],
      "execution_count": null,
      "outputs": []
    },
    {
      "cell_type": "code",
      "metadata": {
        "colab": {
          "base_uri": "https://localhost:8080/"
        },
        "id": "_jW2hdxzah-2",
        "outputId": "90af3c1c-98a6-4aec-c0d8-36b6db440272"
      },
      "source": [
        "!kaggle competitions submit reducing-commercial-aviation-fatalities -f stack3.csv -m \"RF+LR+ADB,LR\""
      ],
      "execution_count": null,
      "outputs": [
        {
          "output_type": "stream",
          "text": [
            "100% 1.53G/1.53G [00:15<00:00, 104MB/s]\n",
            "Successfully submitted to Reducing Commercial Aviation Fatalities"
          ],
          "name": "stdout"
        }
      ]
    },
    {
      "cell_type": "code",
      "metadata": {
        "colab": {
          "base_uri": "https://localhost:8080/",
          "height": 639
        },
        "id": "447-EIrOW80b",
        "outputId": "fd1356b8-3af3-498d-8d63-98d0736480e6"
      },
      "source": [
        "from IPython.display import Image\r\n",
        "from IPython.core.display import HTML \r\n",
        "Image(url= \"https://i.postimg.cc/Fzm963cb/kaggle.png\")"
      ],
      "execution_count": 9,
      "outputs": [
        {
          "output_type": "execute_result",
          "data": {
            "text/html": [
              "<img src=\"https://i.postimg.cc/Fzm963cb/kaggle.png\"/>"
            ],
            "text/plain": [
              "<IPython.core.display.Image object>"
            ]
          },
          "metadata": {
            "tags": []
          },
          "execution_count": 9
        }
      ]
    },
    {
      "cell_type": "code",
      "metadata": {
        "colab": {
          "base_uri": "https://localhost:8080/",
          "height": 378
        },
        "id": "rVxfdT2OXbQq",
        "outputId": "232953a0-f52e-474f-9f6d-d6ffc89c9396"
      },
      "source": [
        "from IPython.display import Image\r\n",
        "from IPython.core.display import HTML \r\n",
        "Image(url= \"https://i.postimg.cc/gjq0cNdB/stacking-classifiers.png\")"
      ],
      "execution_count": 10,
      "outputs": [
        {
          "output_type": "execute_result",
          "data": {
            "text/html": [
              "<img src=\"https://i.postimg.cc/gjq0cNdB/stacking-classifiers.png\"/>"
            ],
            "text/plain": [
              "<IPython.core.display.Image object>"
            ]
          },
          "metadata": {
            "tags": []
          },
          "execution_count": 10
        }
      ]
    }
  ]
}